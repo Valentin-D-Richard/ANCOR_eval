{
 "cells": [
  {
   "cell_type": "markdown",
   "metadata": {},
   "source": [
    "# Evaluating ANCOR on anaphora with an interrogative word"
   ]
  },
  {
   "cell_type": "code",
   "execution_count": 1,
   "metadata": {},
   "outputs": [],
   "source": [
    "import os\n",
    "import sys\n",
    "from lxml import etree\n",
    "import pyconll\n",
    "import pandas as pd\n",
    "import seaborn as sns\n",
    "import csv\n",
    "\n",
    "# tei and xml prefixes\n",
    "ns = {'tei': 'http://www.tei-c.org/ns/1.0',\n",
    "      'xml': 'http://www.w3.org/XML/1998/namespace'}"
   ]
  },
  {
   "cell_type": "code",
   "execution_count": 2,
   "metadata": {},
   "outputs": [],
   "source": [
    "int_words = ['qui', 'où', 'quoi', 'quand', 'comment', 'pourquoi',\n",
    "             'quel', 'quelle', 'quelles', 'quels', 'combien', 'que',\n",
    "             'lequel', 'lesquels', 'laquelle', 'lesquelles']"
   ]
  },
  {
   "cell_type": "code",
   "execution_count": 3,
   "metadata": {},
   "outputs": [],
   "source": [
    "corpus_dir = \"corpus\"\n",
    "fudia_dir = \"fudia\"\n",
    "notmentioned_dir = \"notmentioned\"\n",
    "notinchain_dir = \"notinchain\"\n",
    "inchain_dir = \"inchain\""
   ]
  },
  {
   "cell_type": "code",
   "execution_count": 4,
   "metadata": {},
   "outputs": [],
   "source": [
    "# Utils\n",
    "def get_fileid(filename:str) -> str:\n",
    "    f = filename.split('/')[-1]\n",
    "    return '.'.join(f.split('.')[:-1])\n",
    "\n",
    "def attrib(tree, prefix:str, tag:str) -> str:\n",
    "    \"\"\"Returns the attribute of the root of tree of name prefix:tag,\n",
    "    given the ns dictionary\"\"\"\n",
    "    try:\n",
    "        return tree.attrib['{'+ns[prefix]+'}'+tag]\n",
    "    except KeyError:\n",
    "        return \"\"\n",
    "    \n",
    "def boolify(s:str):\n",
    "    return s == \"YES\"\n",
    "\n",
    "def word_id(id:str):\n",
    "    \"\"\"Returns the integer section, utterance and word ids\n",
    "    of a word id given as a string\"\"\"\n",
    "    s = id.split('.')\n",
    "    return (int(s[0].strip('s')), int(s[1].strip('u')), int(s[2].strip('w')))\n",
    "\n",
    "def string_id(s:int, u:int, w:int):\n",
    "    \"\"\"Returns the string id of section s, utterance u and word w\"\"\"\n",
    "    return \"s\"+str(s)+\".u\"+str(u)+\".w\"+str(w)\n",
    "\n",
    "def ids_in_between(from_id:str, to_id:str):\n",
    "    \"\"\"Returns the list of str ids in between (largely) from_id and to_id\n",
    "    We assume that both are in the same section and utterrance\"\"\"\n",
    "    from_id = word_id(from_id)\n",
    "    to_id = word_id(to_id)\n",
    "    assert from_id[0] == to_id[0] and from_id[1] == to_id[1]\n",
    "    return [string_id(to_id[0],to_id[1],i) for i in range(from_id[2], to_id[2]+1)]\n"
   ]
  },
  {
   "cell_type": "code",
   "execution_count": 5,
   "metadata": {},
   "outputs": [],
   "source": [
    "# string format to display the text of an anaphora\n",
    "\n",
    "def format_chain(chainid:str, loc_wordid2sentid:dict, loc_mentid2wordids:dict, loc_chainid2mentids:dict,\n",
    "               loc_sentid2wordids:dict, loc_wordid2word:dict, context_radius=2, expand=False) -> str:\n",
    "    ellipsis = False\n",
    "    string = \"\"\n",
    "    cur_ment_idx = -1 # Mentions are supposed to be sorted\n",
    "\n",
    "    ment_sents = set([loc_wordid2sentid[loc_mentid2wordids[m][0]] for m in loc_chainid2mentids[chainid]])\n",
    "    radius = context_radius // 2 if len(ment_sents) > 1 else context_radius # enlarging the outputted text\n",
    "    for ment_sent in range(max(0,min(ment_sents) - radius), min(max(ment_sents) + 1 + (radius * 2),max(set(loc_sentid2wordids.keys())))):\n",
    "\n",
    "        context = set(range(ment_sent - (radius * 2), ment_sent + 1 + radius))\n",
    "        if context.intersection(set(ment_sents)) == set(): # Only displays sentences including a radius of the chain\n",
    "            if not ellipsis: # ellipsis gloss\n",
    "                ellipsis = True\n",
    "                string += \" [...]\"\n",
    "\n",
    "        else:\n",
    "            appendum = \"\"\n",
    "            ellipsis = False\n",
    "            for wordid in loc_sentid2wordids[ment_sent]:\n",
    "                appendum += \" \"\n",
    "                if cur_ment_idx+1 < len(loc_chainid2mentids[chainid]) and \\\n",
    "                    wordid == loc_mentid2wordids[loc_chainid2mentids[chainid][cur_ment_idx+1]][0]:\n",
    "                    cur_ment_idx += 1\n",
    "                    appendum += \"**[\"\n",
    "                appendum += loc_wordid2word[wordid]\n",
    "                if wordid == loc_mentid2wordids[loc_chainid2mentids[chainid][cur_ment_idx]][-1]:\n",
    "                    appendum += \"]**\"\n",
    "            if appendum.strip() != \"\":\n",
    "                string += appendum + \".\"\n",
    "                if expand:\n",
    "                    string += \"\\n\\t\"\n",
    "    \n",
    "    return string[1:]\n",
    "\n",
    "\n",
    "def chain_strings_aux(mentids:list, loc_wordid2sentid:dict, loc_mentid2wordids:dict, loc_chainid2mentids:dict,\n",
    "               loc_sentid2wordids:dict, loc_wordid2word:dict, context_radius=2, expand=False) -> str:\n",
    "    \"\"\"Outputs the string chains a list of mentions belongs to. Or its own sentence if it belongs to no chain\"\"\"\n",
    "    sel_chainids = []\n",
    "    found_mentids = set()\n",
    "     # collecting chains containing one of the input mention ids\n",
    "    for chainid in loc_chainid2mentids.keys():\n",
    "        for mentid in mentids:\n",
    "            if mentid in loc_chainid2mentids[chainid]:\n",
    "                sel_chainids.append(chainid)\n",
    "                found_mentids.add(mentid)\n",
    "\n",
    "    # formatting the chains\n",
    "    output = \"\"\n",
    "    for chainid in sel_chainids:\n",
    "        output += \" * \" + chainid + \": \" + str(loc_chainid2mentids[chainid]) + \"\\n\"\n",
    "        output += \"\\t\" + format_chain(chainid, loc_wordid2sentid, loc_mentid2wordids, loc_chainid2mentids,\n",
    "               loc_sentid2wordids, loc_wordid2word, context_radius, expand) + \"\\n\"\n",
    "    # also outputting mentions belonging to no chain\n",
    "    for mentid in mentids: # \n",
    "        if mentid not in found_mentids:\n",
    "            output += \" * [\" + mentid + \"]\\n\"\n",
    "            output += \"\\t\" + format_chain(\"#\", loc_wordid2sentid, loc_mentid2wordids, {'#':[mentid]},\n",
    "               loc_sentid2wordids, loc_wordid2word, context_radius, expand) + \"\\n\"\n",
    "    \n",
    "    return output\n",
    "\n",
    "        "
   ]
  },
  {
   "cell_type": "markdown",
   "metadata": {},
   "source": [
    "## Retrieving the anaphora data"
   ]
  },
  {
   "cell_type": "code",
   "execution_count": 6,
   "metadata": {},
   "outputs": [],
   "source": [
    "# Main dictionaries\n",
    "# key: fileid, value: a dict\n",
    "fileid2corpus = {} # corpora: ESLO, OTG, UBS, ESLO_CO2\n",
    "wordid2word = {}\n",
    "wordid2sentid = {}\n",
    "sentid2wordids = {}\n",
    "mentid2wordids = {}\n",
    "mentid2new = {} # value: whether the mention has NEW=Yes\n",
    "chainid2mentids = {}\n",
    "chainid2pro = {} # value: whether the chain includes a pronoun\n",
    "chainid2coref = {} # value: whether the chain is a co-reference (i.e. not associative)\n",
    "\n",
    "def chain_strings(mentids:list, fileid:str, context_radius=2, expand=False) -> str:\n",
    "    \"Formats a list of mention ids into a a string displaying the sentences containing the chain containing these mentions\"\n",
    "    \"plus some sentences around\"\n",
    "    return chain_strings_aux(mentids, wordid2sentid[fileid], mentid2wordids[fileid], chainid2mentids[fileid],\n",
    "               sentid2wordids[fileid], wordid2word[fileid], context_radius, expand)\n",
    "\n",
    "def sentence_strings(wordids:list, fileid:str, context_radius=2, expand=False) -> str:\n",
    "    \"Formats a list of word ids into a a string displaying the sentences containing these word ids\"\n",
    "    \"plus some sentences around\"\n",
    "    mentids = [str(i) for i in range(len(wordids))]\n",
    "    return chain_strings_aux(mentids, wordid2sentid[fileid], {str(i):[w] for (i,w) in enumerate(wordids)}, {i:[i] for i in mentids},\n",
    "               sentid2wordids[fileid], wordid2word[fileid], context_radius, expand)\n",
    "\n",
    "def int_word_in_mention(mentid:str, fileid:str) -> str:\n",
    "    \"\"\"Given the interrogative word that belongs to the input interrogative mention.\n",
    "    Returns the empty string is no interrogative word is detected\"\"\"\n",
    "    words = [wordid2word[fileid][wordid] for wordid in mentid2wordids[fileid][mentid]]\n",
    "    for word in words:\n",
    "            if word in int_words:\n",
    "                return word\n",
    "    return \"\"\n",
    "\n"
   ]
  },
  {
   "cell_type": "code",
   "execution_count": 7,
   "metadata": {},
   "outputs": [],
   "source": [
    "# Function charging the dictionaries for a given tei file\n",
    "def get_annotations(filename:str):\n",
    "    fileid = get_fileid(filename)\n",
    "    try:\n",
    "        tree = etree.parse(filename)\n",
    "    except etree.ParseError as err:\n",
    "        print(\"File:\", filename, file=sys.stderr)\n",
    "        print(err, file=sys.stderr)\n",
    "        exit(1)\n",
    "    root = tree.getroot()\n",
    "\n",
    "    # Retrieving subtrees\n",
    "    sent_trees = []\n",
    "    for t in root[1][0].findall('tei:div', ns):\n",
    "        if attrib(t, 'tei', 'type') == \"section\":\n",
    "            sent_trees += t.findall('tei:u', ns)\n",
    "    ment_trees = []\n",
    "    for t in root[2].findall('tei:spanGrp', ns):\n",
    "        ment_trees += t.findall('tei:span', ns)\n",
    "    coref_trees = []\n",
    "    for t in root[2].findall('tei:linkGrp', ns):\n",
    "        coref_trees += t.findall('tei:link', ns)\n",
    "\n",
    "    ### Formatting word ids, mentions and coreferences\n",
    "    # Words and sentences\n",
    "    words = []\n",
    "    for s in sent_trees:\n",
    "        words.append([])\n",
    "        for w in s.findall('tei:w', ns):\n",
    "            words[-1].append([attrib(w,'xml','id'), w.text])\n",
    "        for pc in s.findall('tei:pc', ns):\n",
    "            words[-1].append([attrib(pc,'xml','id'), pc.text])\n",
    "        words[-1].sort(key=lambda w_i: word_id(w_i[0]))\n",
    "    wordid2word[fileid] = {w[0]:w[1] for s in words for w in s}\n",
    "    wordid2sentid[fileid] = {w[0]:i for i,s in enumerate(words) for w in s}\n",
    "    sentid2wordids[fileid] = {i:[w[0] for w in s] for i,s in enumerate(words)}\n",
    "\n",
    "    # Mentions\n",
    "    mentions = []\n",
    "    for m in ment_trees:\n",
    "        target = attrib(m,'tei','target').replace('#','')\n",
    "        if len(target) > 0: # Discontinuous mentions\n",
    "            mentions.append([attrib(m,'xml','id')] + target.split(' '))\n",
    "        else: # Continuous mentions\n",
    "            target = ids_in_between(attrib(m,'tei','from').strip('#'), attrib(m,'tei','to').strip('#'))\n",
    "            mentions.append([attrib(m,'xml','id')] + target)\n",
    "    mentid2wordids[fileid] = {m[0]:m[1:] for m in mentions}\n",
    "    for m in mentid2wordids[fileid].keys():\n",
    "        mentid2wordids[fileid][m].sort(key=lambda id: word_id(id))\n",
    "\n",
    "    # Mention novelty feature\n",
    "    mentid2new[fileid] = {}\n",
    "    mentid2pro = {}\n",
    "    for t in root[2].findall('tei:div', ns):\n",
    "        if attrib(t,'tei','type') == \"unit-fs\":\n",
    "            for subt in t.findall('tei:fs', ns):\n",
    "                m = '-'.join(attrib(subt, 'xml', 'id').split('-')[:-1])\n",
    "                for f in subt.findall('tei:f', ns):\n",
    "                    if attrib(f, 'tei', 'name') == \"NEW\":\n",
    "                        mentid2new[fileid][m] = boolify(f[0].text)\n",
    "                    if attrib(f, 'tei', 'name') == \"type\":\n",
    "                        mentid2pro[m] = f[0].text == \"PR\"\n",
    "\n",
    "    # Coreferences\n",
    "    chains = [[attrib(c,'xml','id')] \\\n",
    "          + attrib(c,'tei','target').replace('#','').split(' ')\n",
    "            for c in coref_trees]\n",
    "    chainid2mentids[fileid] = {\n",
    "        c[0]:[m for m in c[1:] if m in mentid2wordids[fileid].keys()] for c in chains}\n",
    "    temp_corefs = list(chainid2mentids[fileid].keys())\n",
    "    for c in temp_corefs:\n",
    "        chainid2mentids[fileid][c].sort(key=lambda m: word_id(mentid2wordids[fileid][m][0]))\n"
   ]
  },
  {
   "cell_type": "code",
   "execution_count": 8,
   "metadata": {},
   "outputs": [
    {
     "name": "stdout",
     "output_type": "stream",
     "text": [
      "['r-COREFERENCE-jmuzerelle_1356881863910', 'r-COREFERENCE-jmuzerelle_1356881884190', 'r-COREFERENCE-jmuzerelle_1356881896529', 'r-COREFERENCE-jmuzerelle_1356881904704', 'r-COREFERENCE-jmuzerelle_1356881908978', 'r-COREFERENCE-jmuzerelle_1356881917153', 'r-COREFERENCE-jmuzerelle_1356881922940', 'r-COREFERENCE-jmuzerelle_1356881931926', 'r-COREFERENCE-jmuzerelle_1356881938618', 'r-COREFERENCE-jmuzerelle_1356882002516']\n"
     ]
    }
   ],
   "source": [
    "# Loading dictionaries by looping on the files\n",
    "for corpus in os.listdir(corpus_dir):\n",
    "    corp = '_'.join(corpus.split('_')[1:])\n",
    "    for filename in os.listdir(corpus_dir + '/' + corpus):\n",
    "        fileid = get_fileid(filename)\n",
    "        fileid2corpus[fileid] = corp\n",
    "        if filename[-4:] == \".tei\":\n",
    "            get_annotations(corpus_dir+'/'+corpus+'/'+filename)\n",
    "\n",
    "print(list(chainid2mentids['021_C-6'].keys())[:10])"
   ]
  },
  {
   "cell_type": "markdown",
   "metadata": {},
   "source": [
    "## Retrieving the syntax data"
   ]
  },
  {
   "cell_type": "code",
   "execution_count": 9,
   "metadata": {},
   "outputs": [],
   "source": [
    "fileid2intwordids = {}"
   ]
  },
  {
   "cell_type": "code",
   "execution_count": 10,
   "metadata": {},
   "outputs": [],
   "source": [
    "# Function collecting the word ids that are annotated with PronType=\"Int\"\n",
    "def get_syntax(filename:str):\n",
    "    fileid = get_fileid(filename)\n",
    "    fileid2intwordids[fileid] = []\n",
    "    tree = pyconll.load_from_file(filename)\n",
    "\n",
    "    # Extract tokens with PronType\n",
    "    for sentence in tree:\n",
    "        for token in sentence:\n",
    "            # Getting word id\n",
    "            if token.form != '__NOFORM__':\n",
    "                if 'id' not in token.misc or len(token.misc['id']) != 1:\n",
    "                    print(token.id, token.form)\n",
    "                    raise ValueError\n",
    "                else:\n",
    "                    wordid = list(token.misc['id'])[0]\n",
    "                # Adding to list if it's an interrogative word\n",
    "                if 'PronType' in token.feats:\n",
    "                    pt = list(token.feats['PronType'])\n",
    "                    if len(pt) != 1:\n",
    "                        raise ValueError\n",
    "                    elif pt[0] == 'Int':\n",
    "                        fileid2intwordids[fileid].append(wordid)\n",
    "    "
   ]
  },
  {
   "cell_type": "code",
   "execution_count": 11,
   "metadata": {},
   "outputs": [
    {
     "name": "stdout",
     "output_type": "stream",
     "text": [
      "['s1.u0.w9', 's3.u10.w12', 's3.u19.w11', 's4.u0.w1', 's4.u15.w6', 's7.u3.w0', 's7.u3.w5', 's7.u5.w0', 's7.u9.w18', 's7.u15.w1', 's8.u7.w1', 's8.u17.w0', 's10.u0.w1', 's12.u22.w3', 's12.u34.w23', 's12.u46.w21', 's12.u51.w10']\n"
     ]
    }
   ],
   "source": [
    "# Loading set of interrogative words by looping on the files\n",
    "for corpus in os.listdir(fudia_dir):\n",
    "    for filename in os.listdir(fudia_dir + '/' + corpus):\n",
    "        if filename[-7:] == \".conllu\":\n",
    "            get_syntax(fudia_dir+'/'+corpus+'/'+filename)\n",
    "\n",
    "print(fileid2intwordids['021_C-6'])"
   ]
  },
  {
   "cell_type": "code",
   "execution_count": 12,
   "metadata": {},
   "outputs": [
    {
     "name": "stdout",
     "output_type": "stream",
     "text": [
      "2581\n"
     ]
    }
   ],
   "source": [
    "# Number of interrogative words detected\n",
    "print(sum([len(fileid2intwordids[fileid]) for fileid in fileid2intwordids.keys()]))"
   ]
  },
  {
   "cell_type": "markdown",
   "metadata": {},
   "source": [
    "## Assessing interrogative mentions"
   ]
  },
  {
   "cell_type": "code",
   "execution_count": 13,
   "metadata": {},
   "outputs": [
    {
     "name": "stdout",
     "output_type": "stream",
     "text": [
      " * 0: ['0']\n",
      "\teuh et lorsque vous votez pour un député madame **[qu']** est -ce que vous attendez de lui quand vous votez est -ce que. ça vous savez hein ça quand on vote pour un député on a vu d' ailleurs en général on les connaît on connaît quand même leurs façons d' agir on connaît on a lu toutes leurs déclarations hein ? alors on espère qu' ils agiront suivant vos propres idées par exemple sur ce que vous souhaitez voir enfin. oui et vous croyez que que v- euh vous votez pour euh le la personnalité ou est -ce pour le parti ou pour les idées qu' il représente ?. vous savez je ne fais pas de politique hein ? je ne fais pas de politique c'est-à-dire que euh on est quand même p- plus ou moins d' accord avec leur position malgré tout hein ? je crois qu' on voit ça surtout suivant son niveau suivant vous pensez pas ? je pense que ça c' est sûr ça se fait surtout par comme ça pour le niveau social pour euh.\n",
      " * 1: ['1']\n",
      "\tje pense qui correspond le mieux à à à ce qu' on peut espérer et tu le sors de la cuisine si tu entends sonner. et dans les élections nationales euh pour bon euh dans les élections nationales madame **[pourquoi]** est -ce qu' il y a deux tours je crois qu' il y a deux tours aux élections de. eh bien y a deux tours y a pas toujours deux tours. enfin il y a. quand y a une majorité absolue parce qu' au premier tour.\n",
      " * 2: ['2']\n",
      "\toui oui oui oui d' accord. pour ça qu' il y a quelquefois deux tours. et alors euh **[comment]** est -ce qu' on déc- décide son vote ? la seconde fois c' est. eh bien s' il n' a pas été élu la première fois ou ah non comment décide -t -on ? alors là vous voulez dire euh les hommes politiques se consultent quelques uns se retirent. hm hm. alors en général c' est par parti politique. ah oui d' accord.\n",
      " * 3: ['3']\n",
      "\tpour ça qu' il y a quelquefois deux tours. et alors euh comment est -ce qu' on déc- décide son vote ? la seconde fois c' est. eh bien s' il n' a pas été élu la première fois ou ah non **[comment]** décide -t -on ? alors là vous voulez dire euh les hommes politiques se consultent quelques uns se retirent. hm hm. alors en général c' est par parti politique. ah oui d' accord. alors celui qui représente le parti d' un monsieur dit moi je me désiste pour telle personne si vous suivez votre vote vous devez voter vous devez suivre vous comprenez ?.\n",
      " * 4: ['4']\n",
      "\tqui est élu sans s' occuper de majorité. oui oui et euh. **[quelle]** est la différence pensez- vous entre la droite et la gauche ?. vous me dites quelle différence c' est ça ?. oui enfin si vous voyez une différence entre la droite et la gauche. si vous croyez que. tout ça ça dépend évidemment y a le parti u- central centriste je sais pas comment on peut dire plus modéré.\n",
      " * 5: ['5']\n",
      "\toui oui et euh. quelle est la différence pensez- vous entre la droite et la gauche ?. vous me dites **[quelle]** différence c' est ça ?. oui enfin si vous voyez une différence entre la droite et la gauche. si vous croyez que. tout ça ça dépend évidemment y a le parti u- central centriste je sais pas comment on peut dire plus modéré. oui oui.\n",
      " * 6: ['6']\n",
      "\toui enfin si vous voyez une différence entre la droite et la gauche. si vous croyez que. tout ça ça dépend évidemment y a le parti u- central centriste je sais pas **[comment]** on peut dire plus modéré. oui oui. hein ? pour laquelle je suis davantage partisante si vous voulez la gauche la gauche l' extrême gauche évidemment l' extrême gauche ben c' est communiste c' est. et les. et l' extrême droite eh ben l' extrême droite euh.\n",
      " * 7: ['7']\n",
      "\tet l' extrême droite eh ben l' extrême droite euh. oui. je sais pas **[qu']** est -ce qui rentre là-dedans dans l' extrême droite. les fascistes ou des. si vous voulez les fascistes mais y a plus de royalistes maintenant y a pas si longtemps y en avait peut -être encore mais enfin oui des fascistes ou à mon sens les partis d' extrême se rejoignent d' ailleurs quelques fois hein ?.\n",
      " * 8: ['8']\n",
      "\tje crois que je crois que la majorité tout au moins je pense oui c' est c' est plus modéré. et est -ce que les différences entre les classes sociales sont très marquées à Orléans est -ce que vous trouvez que. ça je ne sais pas tellement vous répondre là mais même ça dépend dans **[quel]** milieu on évolue c' est toujours pareil à quel point de vue vous voyez ça c' est. enfin est -ce que est -ce qu' on enfin est -ce qu' il y a une certaine hiérarchie ?. on ne fera pas de différence oh ça je ne pense pas quand même pas. oui euh enfin des. j' ai compris vraiment des séparations nettes je ne pense pas quand même à ce point -là cha- chacun évolue dans sa sphère peut-être si vous voulez mais quand même y a moi je crois je ne crois pas que ce soit marqué à ce point -là.\n",
      " * 9: ['9']\n",
      "\tje crois que je crois que la majorité tout au moins je pense oui c' est c' est plus modéré. et est -ce que les différences entre les classes sociales sont très marquées à Orléans est -ce que vous trouvez que. ça je ne sais pas tellement vous répondre là mais même ça dépend dans quel milieu on évolue c' est toujours pareil à **[quel]** point de vue vous voyez ça c' est. enfin est -ce que est -ce qu' on enfin est -ce qu' il y a une certaine hiérarchie ?. on ne fera pas de différence oh ça je ne pense pas quand même pas. oui euh enfin des. j' ai compris vraiment des séparations nettes je ne pense pas quand même à ce point -là cha- chacun évolue dans sa sphère peut-être si vous voulez mais quand même y a moi je crois je ne crois pas que ce soit marqué à ce point -là.\n",
      " * 10: ['10']\n",
      "\tmais non non non non je vois pas ça comme ça hein c' est c' est c' est pas co- ça c' est pas pareil tiens ça c' est c' est peut-être Margareth oui ça tombe toujours. euh un étranger veut venir en France madame pour apprendre le français euh dans **[quelle]** région de la France est -ce que ?. vous pouvez arrêter non un petit peu ?. oui oui pardon. non parce que si vous avez dans quelle région oui vous reposez votre question. un étranger qui veut venir en France pour apprendre le français.\n",
      " * 11: ['11']\n",
      "\tvous pouvez arrêter non un petit peu ?. oui oui pardon. non parce que si vous avez dans **[quelle]** région oui vous reposez votre question. un étranger qui veut venir en France pour apprendre le français. hm. euh dans quelle région est -ce qu' il doit aller d' après vous ?. en France on prétend que c' est à Tours surtout dans l' Indre-et-Loire et peut -être l' Orléanais.\n",
      " * 12: ['12']\n",
      "\tun étranger qui veut venir en France pour apprendre le français. hm. euh dans **[quelle]** région est -ce qu' il doit aller d' après vous ?. en France on prétend que c' est à Tours surtout dans l' Indre-et-Loire et peut -être l' Orléanais. hm hm. où le français est parlé le plus correctement avec le moins d' accent maintenant parce que évidemment un étranger qui s' en va dans le Midi Perpignan et autre il a euh.\n",
      " * 13: ['13']\n",
      "\thm hm oui oui. l' est peut-être tout à fait l' est aussi. hm hm et pour bien apprendre le français **[quels]** gens devrait- il fréquenter ?. quels ?. quels gens devrait- il fréquenter ?. peut-être du personnel enfin dans dans dans les membres de l' enseignement ou je pense. hm et y a des gens qu' il devrait éviter de fréquenter euh par exemple est -ce qu' il y a des personnes que vous lui conseilleriez de ne pas écouter ou de d' éviter de.\n",
      " * 14: ['14']\n",
      "\tl' est peut-être tout à fait l' est aussi. hm hm et pour bien apprendre le français quels gens devrait- il fréquenter ?. **[quels]** ?. quels gens devrait- il fréquenter ?. peut-être du personnel enfin dans dans dans les membres de l' enseignement ou je pense. hm et y a des gens qu' il devrait éviter de fréquenter euh par exemple est -ce qu' il y a des personnes que vous lui conseilleriez de ne pas écouter ou de d' éviter de. ben je pense que qu' un étranger qui vient en France pour apprendre le français doit être quand même déjà dans un milieu dans un milieu peut-être pas trop ouvrier vous comprenez.\n",
      " * 15: ['15']\n",
      "\thm hm et pour bien apprendre le français quels gens devrait- il fréquenter ?. quels ?. **[quels]** gens devrait- il fréquenter ?. peut-être du personnel enfin dans dans dans les membres de l' enseignement ou je pense. hm et y a des gens qu' il devrait éviter de fréquenter euh par exemple est -ce qu' il y a des personnes que vous lui conseilleriez de ne pas écouter ou de d' éviter de. ben je pense que qu' un étranger qui vient en France pour apprendre le français doit être quand même déjà dans un milieu dans un milieu peut-être pas trop ouvrier vous comprenez. oui oui.\n",
      " * 16: ['16']\n",
      "\tdans un endroit où y a susceptible d' entendre parler correctement le français. hm hm oui oui et quelles sont d' après d' après vous les difficultés de la langue française pour un étranger ?. vous m' aidez ? **[quel]** est le plus difficile pour un étranger dans la langue française ?. la prononciation pour moi c' était difficile et après la grammaire. alors la grammaire et la prononciation. la grammaire et la prononciation.\n",
      " * 17: ['17']\n",
      "\tune fois qu' on la sait hein ?. hm hm enfin. et quelqu'un est de passage à Orléans euh il vous demande ce qu' il pourrait faire pendant son séjour euh **[qu']** est -ce que vous lui conseillez de faire ?. au point de vue sortie au point de vue quand il a visité la ville d' Orléans parce qu' y a quand même pas mal de choses à voir il y a des musées y a des les environs d' Orléans y a beau- y a tous les châteaux de la Loire voyons par ici quand nous avons quelqu'un d' étranger à la maison c' est ce que nous faisons faire presque toujours on les emmène à tous les châteaux de la Loire enfin de la Loire ou du Cher aussi puisque beaucoup de châteaux sont construits sur le Cher aussi. hm hm.\n",
      " * 18: ['18']\n",
      "\tj' aurais dû sortir on avait des petits guides ici mais je sais pas où y a à la mairie on a ça pour visiter Orléans pour voir oh j' ai ça mais je sais pas tellement où c' est rangé. et euh quelqu'un frappe à la porte de cette pièce madame euh **[qu']** est -ce que vous lui dites ?. entrez pourquoi ?. d' accord et. vous vouliez ?. tout à fait et.\n",
      " * 19: ['19']\n",
      "\tet euh quelqu'un frappe à la porte de cette pièce madame euh qu' est -ce que vous lui dites ?. entrez **[pourquoi]** ?. d' accord et. vous vouliez ?. tout à fait et. vous êtes par exemple à votre travail ou vous rencontrez une personne que vous connaissez dans la rue et vous allez l' inviter euh à prendre quelque chose à la maison qu' est -ce que vous lui dites pour l' inviter ?.\n",
      " * 20: ['20']\n",
      "\tvous vouliez ?. tout à fait et. vous êtes par exemple à votre travail ou vous rencontrez une personne que vous connaissez dans la rue et vous allez l' inviter euh à prendre quelque chose à la maison **[qu']** est -ce que vous lui dites pour l' inviter ?. je veux que vous vous imaginiez dans la situation un peu. ben pour pou- voulez- vous venir à la maison euh tel jour enfin êtes- vous libre tel jour pour venir c' est ça ?. oui oui oui euh vous pourriez c- euh continuer.\n",
      " * 21: ['21']\n",
      "\tben pour pou- voulez- vous venir à la maison euh tel jour enfin êtes- vous libre tel jour pour venir c' est ça ?. oui oui oui euh vous pourriez c- euh continuer. **[comment]** dire euh ben je serais heureuse de vous recevoir à la maison seriez- vous libre euh. hm hm oui oui hm hm. tel jour à telle heure ou. et est -ce que vous pourriez m' expliquer comment on fait une omelette ?. ah passons à la cuisine une omelette ?.\n",
      " * 22: ['22']\n",
      "\thm hm oui oui hm hm. tel jour à telle heure ou. et est -ce que vous pourriez m' expliquer **[comment]** on fait une omelette ?. ah passons à la cuisine une omelette ?. oui. normale ?. normale oui oui.\n",
      "\n",
      " * r-COREFERENCE-jmuzerelle_1356881863910: ['u-MENTION-jmuzerelle_1356685731608', 'u-MENTION-jmuzerelle_1356685841556']\n",
      "\tmadame lorsque vous étiez encore à l' école dans **[quelle matière]** étiez vous le plus fort ?. ah **[c']** était littérature. ah oui. le français.\n",
      " * r-ASSOCIATIVE-jmuzerelle_1356881870087: ['u-MENTION-jmuzerelle_1356685731608', 'u-MENTION-jmuzerelle_1356685748159']\n",
      "\tmadame lorsque vous étiez encore à l' école dans **[quelle matière]** étiez vous le plus fort ?. ah c' était **[littérature]**. ah oui. le français.\n",
      " * r-ASSOCIATIVE-jmuzerelle_1356881876951: ['u-MENTION-jmuzerelle_1356685731608', 'u-MENTION-jmuzerelle_1356685759828']\n",
      "\tmadame lorsque vous étiez encore à l' école dans **[quelle matière]** étiez vous le plus fort ?. ah c' était littérature. ah oui. **[le français]**. oui littérature. je suppose qu' habituellement vous portez sur vous quelque chose à écrire ? euh dans votre sac euh ? vous avez toujours un un c-.\n",
      " * s-CHAIN-0: ['u-MENTION-jmuzerelle_1356685731608', 'u-MENTION-jmuzerelle_1356685841556']\n",
      "\tmadame lorsque vous étiez encore à l' école dans **[quelle matière]** étiez vous le plus fort ?. ah **[c']** était littérature. ah oui. le français.\n",
      " * [u-MENTION-jmuzerelle_1356686329712]\n",
      "\toui. quand j' écris mes lettres euh des lettres importantes oui. ah oui vous vous le vous rappelez plus à la suite de **[quelles circonstances]** vous avez eu une euh une plume à encre pour la première fois un stylo à encre ? ah si pour ma. stylo plume attendez un peu parce que là nous sommes. nous sommes dans la religion pour ma première communion. ah oui.\n",
      " * [u-MENTION-jmuzerelle_1356687186278]\n",
      "\tparce que voyez je vais vous montrer ah. oh oui c' était pour faire **[quoi]** ?. bah pour faire quoi ?. oh est -ce que. vous voyez regardez. ah bon oh oui vous faites comme chez vous.\n",
      " * [u-MENTION-jmuzerelle_1356690756988]\n",
      "\toui. chacun chacun avait sa petite euh corvée. et **[qui]** est -ce qui remplissait les les f- les papiers administratifs ah bon. moi. ah oui c' est moi. ah les les feuilles d' impôts et. moi oui c' est moi.\n",
      "\n"
     ]
    }
   ],
   "source": [
    "fileid2intmentids = {}\n",
    "fileid2notmentioned = {}\n",
    "fileid2intchainids = {}\n",
    "fileid2notinchain = {} # list of interrogative mentions not in a chain (of length >= 2)\n",
    "in_several_mentions = []\n",
    "\n",
    "# Getting all interrogative mentions and interrogative words not in any mention\n",
    "for fileid in fileid2corpus.keys():\n",
    "    fileid2intmentids[fileid] = []\n",
    "    fileid2notmentioned[fileid] = []\n",
    "    for wordid in fileid2intwordids[fileid]:\n",
    "        in_mention = False\n",
    "        for mentid in mentid2wordids[fileid].keys():\n",
    "            if wordid in mentid2wordids[fileid][mentid]:\n",
    "                fileid2intmentids[fileid].append(mentid)\n",
    "                # Safety check: are there interrogative words included in several mentions ?\n",
    "                if in_mention:\n",
    "                    in_several_mentions.append([fileid, wordid])\n",
    "                in_mention = True\n",
    "        if not in_mention:\n",
    "            fileid2notmentioned[fileid].append(wordid)\n",
    "\n",
    "# Getting all interrogative chains\n",
    "for fileid in fileid2corpus.keys():\n",
    "    fileid2intchainids[fileid] = []\n",
    "    fileid2notinchain[fileid] = []\n",
    "    for mentid in fileid2intmentids[fileid]:\n",
    "        in_chain = False\n",
    "        for chainid in chainid2mentids[fileid].keys():\n",
    "            if mentid in chainid2mentids[fileid][chainid]:\n",
    "                fileid2intchainids[fileid].append(chainid)\n",
    "                in_chain = True\n",
    "        if not in_chain:\n",
    "            fileid2notinchain[fileid].append(mentid)\n",
    "\n",
    "print(sentence_strings(fileid2intwordids['026_C-3'], '026_C-3'))\n",
    "print(chain_strings(fileid2intmentids['021_C-6'], '021_C-6'))"
   ]
  },
  {
   "cell_type": "code",
   "execution_count": 14,
   "metadata": {},
   "outputs": [
    {
     "name": "stdout",
     "output_type": "stream",
     "text": [
      "Number of interrogative words not in a mention: 2064\n",
      "Number of interrogative mentions not in a chain: 157\n",
      "Interrogative words in several mentions: [['030_C-4', 's3.u2.w5'], ['030_C-4', 's16.u27.w8'], ['014_C-5', 's1.u15.w19'], ['026_C-2', 's3.u1.w1'], ['018_C-2', 's14.u5.w3'], ['029_C-5', 's14.u0.w5']]\n"
     ]
    }
   ],
   "source": [
    "print(\"Number of interrogative words not in a mention:\", sum([len(fileid2notmentioned[fileid]) for fileid in fileid2corpus.keys()]))\n",
    "print(\"Number of interrogative mentions not in a chain:\", sum([len(fileid2notinchain[fileid]) for fileid in fileid2corpus.keys()]))\n",
    "print(\"Interrogative words in several mentions:\", in_several_mentions)"
   ]
  },
  {
   "cell_type": "code",
   "execution_count": 15,
   "metadata": {},
   "outputs": [
    {
     "name": "stdout",
     "output_type": "stream",
     "text": [
      "{'combien', 'lesquelles', 'que', 'qui', 'quelles', 'qu-', 'quoi', 'quand', 'quel', 'pourquoi', 'quels', 'lequel', 'quelle', 'comment', 'grand-chose', 'où', 'lesquels', \"qu'\"}\n"
     ]
    }
   ],
   "source": [
    "int_forms = set([wordid2word[fileid][wordid] for fileid in fileid2corpus.keys() for wordid in fileid2intwordids[fileid]])\n",
    "print(int_forms)\n",
    "\n",
    "def lemmatize(word:str):\n",
    "    if word == \"grand-chose\":\n",
    "        return None\n",
    "    if word in ['quels', 'quelle', 'quelles']:\n",
    "        return 'quel'\n",
    "    if word in ['lesquels', 'laquelle', 'lesquelles']:\n",
    "        return 'lequel'\n",
    "    if word in [\"qu'\", \"qu-\", \"qu'\"]:\n",
    "        return \"que\"\n",
    "    return word"
   ]
  },
  {
   "cell_type": "markdown",
   "metadata": {},
   "source": [
    "### Visualizing data"
   ]
  },
  {
   "cell_type": "code",
   "execution_count": 16,
   "metadata": {},
   "outputs": [
    {
     "data": {
      "text/html": [
       "<div>\n",
       "<style scoped>\n",
       "    .dataframe tbody tr th:only-of-type {\n",
       "        vertical-align: middle;\n",
       "    }\n",
       "\n",
       "    .dataframe tbody tr th {\n",
       "        vertical-align: top;\n",
       "    }\n",
       "\n",
       "    .dataframe thead th {\n",
       "        text-align: right;\n",
       "    }\n",
       "</style>\n",
       "<table border=\"1\" class=\"dataframe\">\n",
       "  <thead>\n",
       "    <tr style=\"text-align: right;\">\n",
       "      <th></th>\n",
       "      <th>fileid</th>\n",
       "      <th>wordid</th>\n",
       "      <th>lemma</th>\n",
       "      <th>mentioned</th>\n",
       "    </tr>\n",
       "  </thead>\n",
       "  <tbody>\n",
       "    <tr>\n",
       "      <th>0</th>\n",
       "      <td>CO2_ESLO_002_C</td>\n",
       "      <td>s2.u7.w1</td>\n",
       "      <td>combien</td>\n",
       "      <td>False</td>\n",
       "    </tr>\n",
       "    <tr>\n",
       "      <th>1</th>\n",
       "      <td>CO2_ESLO_002_C</td>\n",
       "      <td>s2.u9.w16</td>\n",
       "      <td>quel</td>\n",
       "      <td>True</td>\n",
       "    </tr>\n",
       "    <tr>\n",
       "      <th>2</th>\n",
       "      <td>CO2_ESLO_002_C</td>\n",
       "      <td>s2.u17.w1</td>\n",
       "      <td>qui</td>\n",
       "      <td>True</td>\n",
       "    </tr>\n",
       "    <tr>\n",
       "      <th>3</th>\n",
       "      <td>CO2_ESLO_002_C</td>\n",
       "      <td>s2.u23.w3</td>\n",
       "      <td>quel</td>\n",
       "      <td>True</td>\n",
       "    </tr>\n",
       "    <tr>\n",
       "      <th>4</th>\n",
       "      <td>CO2_ESLO_002_C</td>\n",
       "      <td>s3.u4.w3</td>\n",
       "      <td>comment</td>\n",
       "      <td>False</td>\n",
       "    </tr>\n",
       "  </tbody>\n",
       "</table>\n",
       "</div>"
      ],
      "text/plain": [
       "           fileid     wordid    lemma  mentioned\n",
       "0  CO2_ESLO_002_C   s2.u7.w1  combien      False\n",
       "1  CO2_ESLO_002_C  s2.u9.w16     quel       True\n",
       "2  CO2_ESLO_002_C  s2.u17.w1      qui       True\n",
       "3  CO2_ESLO_002_C  s2.u23.w3     quel       True\n",
       "4  CO2_ESLO_002_C   s3.u4.w3  comment      False"
      ]
     },
     "execution_count": 16,
     "metadata": {},
     "output_type": "execute_result"
    }
   ],
   "source": [
    "# Creating dataframe\n",
    "col_fileid = []\n",
    "col_wordid = []\n",
    "col_lemma = []\n",
    "col_mentioned = []\n",
    "\n",
    "for fileid in fileid2corpus.keys():\n",
    "    for wordid in fileid2intwordids[fileid]:\n",
    "        lemma = lemmatize(wordid2word[fileid][wordid])\n",
    "        if lemma is not None:\n",
    "            col_fileid.append(fileid)\n",
    "            col_wordid.append(wordid)\n",
    "            col_lemma.append(lemma)\n",
    "            col_mentioned.append(wordid not in fileid2notmentioned[fileid])\n",
    "\n",
    "iwdf = pd.DataFrame({'fileid': col_fileid, 'wordid':col_wordid, 'lemma':col_lemma,\n",
    "                     'mentioned':col_mentioned})\n",
    "iwdf.head()"
   ]
  },
  {
   "cell_type": "code",
   "execution_count": 17,
   "metadata": {},
   "outputs": [
    {
     "name": "stdout",
     "output_type": "stream",
     "text": [
      "Number of extracted occurrences 2580\n"
     ]
    },
    {
     "data": {
      "text/html": [
       "<div>\n",
       "<style scoped>\n",
       "    .dataframe tbody tr th:only-of-type {\n",
       "        vertical-align: middle;\n",
       "    }\n",
       "\n",
       "    .dataframe tbody tr th {\n",
       "        vertical-align: top;\n",
       "    }\n",
       "\n",
       "    .dataframe thead th {\n",
       "        text-align: right;\n",
       "    }\n",
       "</style>\n",
       "<table border=\"1\" class=\"dataframe\">\n",
       "  <thead>\n",
       "    <tr style=\"text-align: right;\">\n",
       "      <th></th>\n",
       "      <th>lemma</th>\n",
       "      <th>mentioned</th>\n",
       "    </tr>\n",
       "  </thead>\n",
       "  <tbody>\n",
       "    <tr>\n",
       "      <th>0</th>\n",
       "      <td>combien</td>\n",
       "      <td>155</td>\n",
       "    </tr>\n",
       "    <tr>\n",
       "      <th>1</th>\n",
       "      <td>comment</td>\n",
       "      <td>503</td>\n",
       "    </tr>\n",
       "    <tr>\n",
       "      <th>2</th>\n",
       "      <td>lequel</td>\n",
       "      <td>4</td>\n",
       "    </tr>\n",
       "    <tr>\n",
       "      <th>3</th>\n",
       "      <td>où</td>\n",
       "      <td>70</td>\n",
       "    </tr>\n",
       "    <tr>\n",
       "      <th>4</th>\n",
       "      <td>pourquoi</td>\n",
       "      <td>329</td>\n",
       "    </tr>\n",
       "    <tr>\n",
       "      <th>5</th>\n",
       "      <td>quand</td>\n",
       "      <td>43</td>\n",
       "    </tr>\n",
       "    <tr>\n",
       "      <th>6</th>\n",
       "      <td>que</td>\n",
       "      <td>805</td>\n",
       "    </tr>\n",
       "    <tr>\n",
       "      <th>7</th>\n",
       "      <td>quel</td>\n",
       "      <td>530</td>\n",
       "    </tr>\n",
       "    <tr>\n",
       "      <th>8</th>\n",
       "      <td>qui</td>\n",
       "      <td>64</td>\n",
       "    </tr>\n",
       "    <tr>\n",
       "      <th>9</th>\n",
       "      <td>quoi</td>\n",
       "      <td>77</td>\n",
       "    </tr>\n",
       "  </tbody>\n",
       "</table>\n",
       "</div>"
      ],
      "text/plain": [
       "      lemma  mentioned\n",
       "0   combien        155\n",
       "1   comment        503\n",
       "2    lequel          4\n",
       "3        où         70\n",
       "4  pourquoi        329\n",
       "5     quand         43\n",
       "6       que        805\n",
       "7      quel        530\n",
       "8       qui         64\n",
       "9      quoi         77"
      ]
     },
     "execution_count": 17,
     "metadata": {},
     "output_type": "execute_result"
    }
   ],
   "source": [
    "print(\"Number of extracted occurrences\", len(iwdf))\n",
    "iwdf[['lemma','mentioned']].groupby('lemma', as_index=False).agg('count')"
   ]
  },
  {
   "cell_type": "code",
   "execution_count": 18,
   "metadata": {},
   "outputs": [
    {
     "data": {
      "text/plain": [
       "<Axes: xlabel='lemma', ylabel='count'>"
      ]
     },
     "execution_count": 18,
     "metadata": {},
     "output_type": "execute_result"
    },
    {
     "data": {
      "image/png": "[encoded data removed]",
      "text/plain": [
       "<Figure size 640x480 with 1 Axes>"
      ]
     },
     "metadata": {},
     "output_type": "display_data"
    }
   ],
   "source": [
    "#Visualisation\n",
    "sns.countplot(iwdf, x='lemma')"
   ]
  },
  {
   "cell_type": "code",
   "execution_count": 19,
   "metadata": {},
   "outputs": [
    {
     "data": {
      "text/plain": [
       "<Axes: xlabel='lemma', ylabel='mentioned'>"
      ]
     },
     "execution_count": 19,
     "metadata": {},
     "output_type": "execute_result"
    },
    {
     "data": {
      "image/png": "[encoded data removed]",
      "text/plain": [
       "<Figure size 640x480 with 1 Axes>"
      ]
     },
     "metadata": {},
     "output_type": "display_data"
    }
   ],
   "source": [
    "sns.barplot(iwdf[['lemma', 'mentioned']].groupby('lemma', as_index=False).agg('mean'), x='lemma', y='mentioned')"
   ]
  },
  {
   "cell_type": "code",
   "execution_count": null,
   "metadata": {},
   "outputs": [
    {
     "data": {
      "text/html": [
       "<div>\n",
       "<style scoped>\n",
       "    .dataframe tbody tr th:only-of-type {\n",
       "        vertical-align: middle;\n",
       "    }\n",
       "\n",
       "    .dataframe tbody tr th {\n",
       "        vertical-align: top;\n",
       "    }\n",
       "\n",
       "    .dataframe thead th {\n",
       "        text-align: right;\n",
       "    }\n",
       "</style>\n",
       "<table border=\"1\" class=\"dataframe\">\n",
       "  <thead>\n",
       "    <tr style=\"text-align: right;\">\n",
       "      <th></th>\n",
       "      <th>lemma</th>\n",
       "      <th>mentioned</th>\n",
       "    </tr>\n",
       "  </thead>\n",
       "  <tbody>\n",
       "    <tr>\n",
       "      <th>0</th>\n",
       "      <td>combien</td>\n",
       "      <td>155</td>\n",
       "    </tr>\n",
       "    <tr>\n",
       "      <th>1</th>\n",
       "      <td>comment</td>\n",
       "      <td>502</td>\n",
       "    </tr>\n",
       "    <tr>\n",
       "      <th>2</th>\n",
       "      <td>où</td>\n",
       "      <td>57</td>\n",
       "    </tr>\n",
       "    <tr>\n",
       "      <th>3</th>\n",
       "      <td>pourquoi</td>\n",
       "      <td>329</td>\n",
       "    </tr>\n",
       "    <tr>\n",
       "      <th>4</th>\n",
       "      <td>quand</td>\n",
       "      <td>43</td>\n",
       "    </tr>\n",
       "    <tr>\n",
       "      <th>5</th>\n",
       "      <td>que</td>\n",
       "      <td>791</td>\n",
       "    </tr>\n",
       "    <tr>\n",
       "      <th>6</th>\n",
       "      <td>quel</td>\n",
       "      <td>103</td>\n",
       "    </tr>\n",
       "    <tr>\n",
       "      <th>7</th>\n",
       "      <td>qui</td>\n",
       "      <td>11</td>\n",
       "    </tr>\n",
       "    <tr>\n",
       "      <th>8</th>\n",
       "      <td>quoi</td>\n",
       "      <td>72</td>\n",
       "    </tr>\n",
       "  </tbody>\n",
       "</table>\n",
       "</div>"
      ],
      "text/plain": [
       "      lemma  mentioned\n",
       "0   combien        155\n",
       "1   comment        502\n",
       "2        où         57\n",
       "3  pourquoi        329\n",
       "4     quand         43\n",
       "5       que        791\n",
       "6      quel        103\n",
       "7       qui         11\n",
       "8      quoi         72"
      ]
     },
     "execution_count": 20,
     "metadata": {},
     "output_type": "execute_result"
    }
   ],
   "source": [
    "# Detected interrogative occurrences\n",
    "iwdf[['lemma', 'mentioned']][~iwdf['mentioned']].groupby('lemma', as_index=False).agg('count')"
   ]
  },
  {
   "cell_type": "code",
   "execution_count": 21,
   "metadata": {},
   "outputs": [
    {
     "data": {
      "text/html": [
       "<div>\n",
       "<style scoped>\n",
       "    .dataframe tbody tr th:only-of-type {\n",
       "        vertical-align: middle;\n",
       "    }\n",
       "\n",
       "    .dataframe tbody tr th {\n",
       "        vertical-align: top;\n",
       "    }\n",
       "\n",
       "    .dataframe thead th {\n",
       "        text-align: right;\n",
       "    }\n",
       "</style>\n",
       "<table border=\"1\" class=\"dataframe\">\n",
       "  <thead>\n",
       "    <tr style=\"text-align: right;\">\n",
       "      <th></th>\n",
       "      <th>fileid</th>\n",
       "      <th>mentid</th>\n",
       "      <th>lemma</th>\n",
       "      <th>inchain</th>\n",
       "    </tr>\n",
       "  </thead>\n",
       "  <tbody>\n",
       "    <tr>\n",
       "      <th>0</th>\n",
       "      <td>CO2_ESLO_002_C</td>\n",
       "      <td>u-MENTION-aboyer_1295380490690</td>\n",
       "      <td>quel</td>\n",
       "      <td>True</td>\n",
       "    </tr>\n",
       "    <tr>\n",
       "      <th>1</th>\n",
       "      <td>CO2_ESLO_002_C</td>\n",
       "      <td>u-MENTION-aboyer_1295380578534</td>\n",
       "      <td>qui</td>\n",
       "      <td>False</td>\n",
       "    </tr>\n",
       "    <tr>\n",
       "      <th>2</th>\n",
       "      <td>CO2_ESLO_002_C</td>\n",
       "      <td>u-MENTION-jmuzerelle_1300740713340</td>\n",
       "      <td>quel</td>\n",
       "      <td>True</td>\n",
       "    </tr>\n",
       "    <tr>\n",
       "      <th>3</th>\n",
       "      <td>CO2_ESLO_002_C</td>\n",
       "      <td>u-MENTION-jmuzerelle_1300739009468</td>\n",
       "      <td>quel</td>\n",
       "      <td>False</td>\n",
       "    </tr>\n",
       "    <tr>\n",
       "      <th>4</th>\n",
       "      <td>CO2_ESLO_002_C</td>\n",
       "      <td>u-MENTION-jmuzerelle_1300741204698</td>\n",
       "      <td>quel</td>\n",
       "      <td>True</td>\n",
       "    </tr>\n",
       "  </tbody>\n",
       "</table>\n",
       "</div>"
      ],
      "text/plain": [
       "           fileid                              mentid lemma  inchain\n",
       "0  CO2_ESLO_002_C      u-MENTION-aboyer_1295380490690  quel     True\n",
       "1  CO2_ESLO_002_C      u-MENTION-aboyer_1295380578534   qui    False\n",
       "2  CO2_ESLO_002_C  u-MENTION-jmuzerelle_1300740713340  quel     True\n",
       "3  CO2_ESLO_002_C  u-MENTION-jmuzerelle_1300739009468  quel    False\n",
       "4  CO2_ESLO_002_C  u-MENTION-jmuzerelle_1300741204698  quel     True"
      ]
     },
     "execution_count": 21,
     "metadata": {},
     "output_type": "execute_result"
    }
   ],
   "source": [
    "# Same, but for interrogative mentions in chains\n",
    "col_fileid = []\n",
    "col_mentid = []\n",
    "col_lemma = []\n",
    "col_inchain = []\n",
    "for fileid in fileid2corpus.keys():\n",
    "    for mentid in fileid2intmentids[fileid]:\n",
    "        words = [wordid2word[fileid][wordid] for wordid in mentid2wordids[fileid][mentid]]\n",
    "        # Identifying the interrogative word in the mention\n",
    "        target = int_word_in_mention(mentid, fileid)\n",
    "        if target == \"\": # skipping wrong interrogative mentions\n",
    "            continue\n",
    "            \n",
    "        lemma = lemmatize(target)\n",
    "        col_fileid.append(fileid)\n",
    "        col_mentid.append(mentid)\n",
    "        col_lemma.append(lemma)\n",
    "        col_inchain.append(mentid not in fileid2notinchain[fileid])\n",
    "\n",
    "imdf = pd.DataFrame({'fileid': col_fileid, 'mentid':col_mentid, 'lemma':col_lemma,\n",
    "                     'inchain':col_inchain})\n",
    "imdf.head()"
   ]
  },
  {
   "cell_type": "code",
   "execution_count": 22,
   "metadata": {},
   "outputs": [
    {
     "data": {
      "text/plain": [
       "<Axes: xlabel='lemma', ylabel='count'>"
      ]
     },
     "execution_count": 22,
     "metadata": {},
     "output_type": "execute_result"
    },
    {
     "data": {
      "image/png": "[encoded data removed]",
      "text/plain": [
       "<Figure size 640x480 with 1 Axes>"
      ]
     },
     "metadata": {},
     "output_type": "display_data"
    }
   ],
   "source": [
    "sns.countplot(imdf, x='lemma')"
   ]
  },
  {
   "cell_type": "code",
   "execution_count": 23,
   "metadata": {},
   "outputs": [
    {
     "data": {
      "text/plain": [
       "<Axes: xlabel='lemma', ylabel='inchain'>"
      ]
     },
     "execution_count": 23,
     "metadata": {},
     "output_type": "execute_result"
    },
    {
     "data": {
      "image/png": "[encoded data removed]",
      "text/plain": [
       "<Figure size 640x480 with 1 Axes>"
      ]
     },
     "metadata": {},
     "output_type": "display_data"
    }
   ],
   "source": [
    "sns.barplot(imdf[['lemma', 'inchain']].groupby('lemma', as_index=False).agg('mean'), x='lemma', y='inchain')"
   ]
  },
  {
   "cell_type": "code",
   "execution_count": 24,
   "metadata": {},
   "outputs": [
    {
     "data": {
      "text/html": [
       "<div>\n",
       "<style scoped>\n",
       "    .dataframe tbody tr th:only-of-type {\n",
       "        vertical-align: middle;\n",
       "    }\n",
       "\n",
       "    .dataframe tbody tr th {\n",
       "        vertical-align: top;\n",
       "    }\n",
       "\n",
       "    .dataframe thead th {\n",
       "        text-align: right;\n",
       "    }\n",
       "</style>\n",
       "<table border=\"1\" class=\"dataframe\">\n",
       "  <thead>\n",
       "    <tr style=\"text-align: right;\">\n",
       "      <th></th>\n",
       "      <th>lemma</th>\n",
       "      <th>inchain</th>\n",
       "    </tr>\n",
       "  </thead>\n",
       "  <tbody>\n",
       "    <tr>\n",
       "      <th>0</th>\n",
       "      <td>comment</td>\n",
       "      <td>1</td>\n",
       "    </tr>\n",
       "    <tr>\n",
       "      <th>1</th>\n",
       "      <td>où</td>\n",
       "      <td>1</td>\n",
       "    </tr>\n",
       "    <tr>\n",
       "      <th>2</th>\n",
       "      <td>que</td>\n",
       "      <td>1</td>\n",
       "    </tr>\n",
       "    <tr>\n",
       "      <th>3</th>\n",
       "      <td>quel</td>\n",
       "      <td>108</td>\n",
       "    </tr>\n",
       "    <tr>\n",
       "      <th>4</th>\n",
       "      <td>qui</td>\n",
       "      <td>41</td>\n",
       "    </tr>\n",
       "    <tr>\n",
       "      <th>5</th>\n",
       "      <td>quoi</td>\n",
       "      <td>5</td>\n",
       "    </tr>\n",
       "  </tbody>\n",
       "</table>\n",
       "</div>"
      ],
      "text/plain": [
       "     lemma  inchain\n",
       "0  comment        1\n",
       "1       où        1\n",
       "2      que        1\n",
       "3     quel      108\n",
       "4      qui       41\n",
       "5     quoi        5"
      ]
     },
     "execution_count": 24,
     "metadata": {},
     "output_type": "execute_result"
    }
   ],
   "source": [
    "# Interrogative mentions not in any chain or in trivial chains\n",
    "imdf[['lemma', 'inchain']][~imdf['inchain']].groupby('lemma', as_index=False).agg('count')"
   ]
  },
  {
   "cell_type": "code",
   "execution_count": 25,
   "metadata": {},
   "outputs": [
    {
     "data": {
      "text/html": [
       "<div>\n",
       "<style scoped>\n",
       "    .dataframe tbody tr th:only-of-type {\n",
       "        vertical-align: middle;\n",
       "    }\n",
       "\n",
       "    .dataframe tbody tr th {\n",
       "        vertical-align: top;\n",
       "    }\n",
       "\n",
       "    .dataframe thead th {\n",
       "        text-align: right;\n",
       "    }\n",
       "</style>\n",
       "<table border=\"1\" class=\"dataframe\">\n",
       "  <thead>\n",
       "    <tr style=\"text-align: right;\">\n",
       "      <th></th>\n",
       "      <th>lemma</th>\n",
       "      <th>inchain</th>\n",
       "    </tr>\n",
       "  </thead>\n",
       "  <tbody>\n",
       "    <tr>\n",
       "      <th>0</th>\n",
       "      <td>lequel</td>\n",
       "      <td>4</td>\n",
       "    </tr>\n",
       "    <tr>\n",
       "      <th>1</th>\n",
       "      <td>où</td>\n",
       "      <td>12</td>\n",
       "    </tr>\n",
       "    <tr>\n",
       "      <th>2</th>\n",
       "      <td>que</td>\n",
       "      <td>9</td>\n",
       "    </tr>\n",
       "    <tr>\n",
       "      <th>3</th>\n",
       "      <td>quel</td>\n",
       "      <td>325</td>\n",
       "    </tr>\n",
       "    <tr>\n",
       "      <th>4</th>\n",
       "      <td>qui</td>\n",
       "      <td>12</td>\n",
       "    </tr>\n",
       "  </tbody>\n",
       "</table>\n",
       "</div>"
      ],
      "text/plain": [
       "    lemma  inchain\n",
       "0  lequel        4\n",
       "1      où       12\n",
       "2     que        9\n",
       "3    quel      325\n",
       "4     qui       12"
      ]
     },
     "execution_count": 25,
     "metadata": {},
     "output_type": "execute_result"
    }
   ],
   "source": [
    "# Interrogative mentions in non-trivial chains\n",
    "imdf[['lemma', 'inchain']][imdf['inchain']].groupby('lemma', as_index=False).agg('count')"
   ]
  },
  {
   "cell_type": "markdown",
   "metadata": {},
   "source": [
    "## Printing files and gloss for potentially missed interrogative chains"
   ]
  },
  {
   "cell_type": "code",
   "execution_count": 26,
   "metadata": {},
   "outputs": [],
   "source": [
    "lemma_of_interest = [\"où\", \"qui\", \"quoi\", \"quel\"] # too many occurrences of \"que\" not in a mention\n",
    "\n",
    "# Printing sentences of interrogative words not mentioned, and a large context\n",
    "def generate_notmentioned():\n",
    "    with open(\"notmentioned.csv\", \"w\") as f:\n",
    "        writer = csv.writer(f)\n",
    "        writer.writerow(['fileid', 'wordid', 'lemma', 'fp', 'wh_context', 'chain', 'comment']) # fp = false positive: actual pos / reason, chain: actual chain type\n",
    "        for fileid in fileid2corpus.keys():\n",
    "            notmentioned_wordids = [wordid for wordid in fileid2notmentioned[fileid]\n",
    "                                    if lemmatize(wordid2word[fileid][wordid]) in lemma_of_interest]\n",
    "            if len(notmentioned_wordids) != 0:\n",
    "                # Writing the sentences containing the occurrences with no mention\n",
    "                with open(notmentioned_dir + '/' + fileid + '.md', \"w\") as file:\n",
    "                    file.write(sentence_strings(notmentioned_wordids, fileid, context_radius=10, expand=True))\n",
    "                for wordid in notmentioned_wordids:\n",
    "                    writer.writerow([fileid, wordid, lemmatize(wordid2word[fileid][wordid])])"
   ]
  },
  {
   "cell_type": "code",
   "execution_count": 27,
   "metadata": {},
   "outputs": [],
   "source": [
    "# Printing sentences of interrogative mentioned not in a chain, and a large context\n",
    "def generate_notinchain():\n",
    "    with open(\"notinchain.csv\", \"w\") as f:\n",
    "        writer = csv.writer(f)\n",
    "        writer.writerow(['fileid', 'mentid', 'lemma', 'fp', 'wh_context', 'chain', 'comment']) # fp = false positive: actual pos / reason, chain: actual chain type\n",
    "        for fileid in fileid2corpus.keys():\n",
    "            notinchain_mentids = [mentid for mentid in fileid2notinchain[fileid]]\n",
    "            if len(notinchain_mentids) != 0:\n",
    "                # Writing the sentences containing the occurrences with no mention\n",
    "                with open(notinchain_dir + '/' + fileid + '.md', \"w\") as file:\n",
    "                    file.write(chain_strings(notinchain_mentids, fileid, context_radius=10, expand=True))\n",
    "                for mentid in notinchain_mentids:\n",
    "                    writer.writerow([fileid, mentid, lemmatize(int_word_in_mention(mentid, fileid))])\n"
   ]
  },
  {
   "cell_type": "code",
   "execution_count": 28,
   "metadata": {},
   "outputs": [],
   "source": [
    "# Printing sentences of interrogative mentioned in a chain, and a large context\n",
    "lemma_of_interest = [\"lequel\", \"où\", \"que\", \"qui\"]\n",
    "\n",
    "def generate_inchain():\n",
    "    with open(\"inchain.csv\", \"w\") as f:\n",
    "        writer = csv.writer(f)\n",
    "        writer.writerow(['fileid', 'mentid', 'lemma', 'fp', 'wh_context', 'chain', 'comment']) # fp = false positive: actual pos / reason, chain: actual chain type\n",
    "        for fileid in fileid2corpus.keys():\n",
    "            inchain_mentids = [mentid for mentid in fileid2intmentids[fileid]\n",
    "                               if mentid not in fileid2notinchain[fileid]]\n",
    "            if len(inchain_mentids) != 0:\n",
    "                # Writing the sentences containing the occurrences with no mention\n",
    "                with open(inchain_dir + '/' + fileid + '.md', \"w\") as file:\n",
    "                    file.write(chain_strings(inchain_mentids, fileid, context_radius=10, expand=True))\n",
    "                for mentid in inchain_mentids:\n",
    "                    writer.writerow([fileid, mentid, lemmatize(int_word_in_mention(mentid, fileid))])\n",
    "\n"
   ]
  },
  {
   "cell_type": "markdown",
   "metadata": {},
   "source": [
    "##  Analysing the annotated data"
   ]
  },
  {
   "cell_type": "code",
   "execution_count": 29,
   "metadata": {},
   "outputs": [
    {
     "data": {
      "text/html": [
       "<div>\n",
       "<style scoped>\n",
       "    .dataframe tbody tr th:only-of-type {\n",
       "        vertical-align: middle;\n",
       "    }\n",
       "\n",
       "    .dataframe tbody tr th {\n",
       "        vertical-align: top;\n",
       "    }\n",
       "\n",
       "    .dataframe thead th {\n",
       "        text-align: right;\n",
       "    }\n",
       "</style>\n",
       "<table border=\"1\" class=\"dataframe\">\n",
       "  <thead>\n",
       "    <tr style=\"text-align: right;\">\n",
       "      <th></th>\n",
       "      <th>fileid</th>\n",
       "      <th>mentid</th>\n",
       "      <th>lemma</th>\n",
       "      <th>fp</th>\n",
       "      <th>wh_context</th>\n",
       "      <th>actual</th>\n",
       "      <th>chain</th>\n",
       "      <th>comment</th>\n",
       "    </tr>\n",
       "  </thead>\n",
       "  <tbody>\n",
       "    <tr>\n",
       "      <th>3</th>\n",
       "      <td>005_C-2</td>\n",
       "      <td>u-MENTION-jmuzerelle_1358872789946</td>\n",
       "      <td>qui</td>\n",
       "      <td>NaN</td>\n",
       "      <td>q</td>\n",
       "      <td>domain</td>\n",
       "      <td>[0]</td>\n",
       "      <td>[notnew]</td>\n",
       "    </tr>\n",
       "    <tr>\n",
       "      <th>5</th>\n",
       "      <td>006_C-3</td>\n",
       "      <td>u-MENTION-jmuzerelle_1353488186604</td>\n",
       "      <td>qui</td>\n",
       "      <td>NaN</td>\n",
       "      <td>q</td>\n",
       "      <td>rhet</td>\n",
       "      <td>[0]</td>\n",
       "      <td>[notnew]</td>\n",
       "    </tr>\n",
       "    <tr>\n",
       "      <th>6</th>\n",
       "      <td>007_C-3</td>\n",
       "      <td>u-MENTION-gpascault_1359222055710</td>\n",
       "      <td>lequel</td>\n",
       "      <td>NaN</td>\n",
       "      <td>q</td>\n",
       "      <td>domain</td>\n",
       "      <td>[sta]</td>\n",
       "      <td>[]</td>\n",
       "    </tr>\n",
       "    <tr>\n",
       "      <th>7</th>\n",
       "      <td>008_C-3</td>\n",
       "      <td>u-MENTION-jmuzerelle_1366030962320</td>\n",
       "      <td>lequel</td>\n",
       "      <td>NaN</td>\n",
       "      <td>q</td>\n",
       "      <td>domain</td>\n",
       "      <td>[sta]</td>\n",
       "      <td>[]</td>\n",
       "    </tr>\n",
       "    <tr>\n",
       "      <th>19</th>\n",
       "      <td>021_C-5</td>\n",
       "      <td>u-MENTION-jmuzerelle_1356104131584</td>\n",
       "      <td>lequel</td>\n",
       "      <td>NaN</td>\n",
       "      <td>q</td>\n",
       "      <td>sta;spec:dem;cest</td>\n",
       "      <td>[/]</td>\n",
       "      <td>[]</td>\n",
       "    </tr>\n",
       "  </tbody>\n",
       "</table>\n",
       "</div>"
      ],
      "text/plain": [
       "     fileid                              mentid   lemma   fp wh_context  \\\n",
       "3   005_C-2  u-MENTION-jmuzerelle_1358872789946     qui  NaN          q   \n",
       "5   006_C-3  u-MENTION-jmuzerelle_1353488186604     qui  NaN          q   \n",
       "6   007_C-3   u-MENTION-gpascault_1359222055710  lequel  NaN          q   \n",
       "7   008_C-3  u-MENTION-jmuzerelle_1366030962320  lequel  NaN          q   \n",
       "19  021_C-5  u-MENTION-jmuzerelle_1356104131584  lequel  NaN          q   \n",
       "\n",
       "               actual  chain   comment  \n",
       "3              domain    [0]  [notnew]  \n",
       "5                rhet    [0]  [notnew]  \n",
       "6              domain  [sta]        []  \n",
       "7              domain  [sta]        []  \n",
       "19  sta;spec:dem;cest    [/]        []  "
      ]
     },
     "execution_count": 29,
     "metadata": {},
     "output_type": "execute_result"
    }
   ],
   "source": [
    "nmdf = pd.read_csv('notmentioned.csv').fillna({'chain':'','comment':''})\n",
    "nmdf = nmdf[nmdf['fp'].isna()]\n",
    "nmdf['chain'] = nmdf['chain'].apply(lambda row: row.split(';'))\n",
    "nmdf['comment'] = nmdf['comment'].apply(lambda row: row.split(';'))\n",
    "\n",
    "nicdf = pd.read_csv('notinchain.csv').fillna({'chain':'','comment':''})\n",
    "nicdf = nicdf[nicdf['fp'].isna()]\n",
    "nicdf['chain'] = nicdf['chain'].apply(lambda row: row.split(';'))\n",
    "nicdf['comment'] = nicdf['comment'].apply(lambda row: row.split(';'))\n",
    "\n",
    "icdf = pd.read_csv('inchain_noquel.csv').fillna({'chain':'','comment':''})\n",
    "icdf = icdf[icdf['fp'].isna()]\n",
    "icdf['chain'] = icdf['chain'].apply(lambda row: row.split(';'))\n",
    "icdf['comment'] = icdf['comment'].apply(lambda row: row.split(';'))\n",
    "\n",
    "icdf.head()"
   ]
  },
  {
   "cell_type": "code",
   "execution_count": 30,
   "metadata": {},
   "outputs": [
    {
     "data": {
      "text/html": [
       "<div>\n",
       "<style scoped>\n",
       "    .dataframe tbody tr th:only-of-type {\n",
       "        vertical-align: middle;\n",
       "    }\n",
       "\n",
       "    .dataframe tbody tr th {\n",
       "        vertical-align: top;\n",
       "    }\n",
       "\n",
       "    .dataframe thead th {\n",
       "        text-align: right;\n",
       "    }\n",
       "</style>\n",
       "<table border=\"1\" class=\"dataframe\">\n",
       "  <thead>\n",
       "    <tr style=\"text-align: right;\">\n",
       "      <th></th>\n",
       "      <th>lemma</th>\n",
       "      <th>wh_context</th>\n",
       "    </tr>\n",
       "  </thead>\n",
       "  <tbody>\n",
       "    <tr>\n",
       "      <th>0</th>\n",
       "      <td>lequel</td>\n",
       "      <td>4</td>\n",
       "    </tr>\n",
       "    <tr>\n",
       "      <th>1</th>\n",
       "      <td>qui</td>\n",
       "      <td>5</td>\n",
       "    </tr>\n",
       "  </tbody>\n",
       "</table>\n",
       "</div>"
      ],
      "text/plain": [
       "    lemma  wh_context\n",
       "0  lequel           4\n",
       "1     qui           5"
      ]
     },
     "execution_count": 30,
     "metadata": {},
     "output_type": "execute_result"
    }
   ],
   "source": [
    "# Actual mentions in a chain\n",
    "icdf[['lemma', 'wh_context']].groupby('lemma', as_index=False).agg('count')\n",
    "# no occurrence of other interrogative words (except *quel*)"
   ]
  },
  {
   "cell_type": "code",
   "execution_count": 31,
   "metadata": {},
   "outputs": [
    {
     "data": {
      "text/html": [
       "<div>\n",
       "<style scoped>\n",
       "    .dataframe tbody tr th:only-of-type {\n",
       "        vertical-align: middle;\n",
       "    }\n",
       "\n",
       "    .dataframe tbody tr th {\n",
       "        vertical-align: top;\n",
       "    }\n",
       "\n",
       "    .dataframe thead th {\n",
       "        text-align: right;\n",
       "    }\n",
       "</style>\n",
       "<table border=\"1\" class=\"dataframe\">\n",
       "  <thead>\n",
       "    <tr style=\"text-align: right;\">\n",
       "      <th></th>\n",
       "      <th>lemma</th>\n",
       "      <th>wh_context</th>\n",
       "    </tr>\n",
       "  </thead>\n",
       "  <tbody>\n",
       "    <tr>\n",
       "      <th>0</th>\n",
       "      <td>quel</td>\n",
       "      <td>101</td>\n",
       "    </tr>\n",
       "    <tr>\n",
       "      <th>1</th>\n",
       "      <td>qui</td>\n",
       "      <td>39</td>\n",
       "    </tr>\n",
       "    <tr>\n",
       "      <th>2</th>\n",
       "      <td>quoi</td>\n",
       "      <td>5</td>\n",
       "    </tr>\n",
       "  </tbody>\n",
       "</table>\n",
       "</div>"
      ],
      "text/plain": [
       "  lemma  wh_context\n",
       "0  quel         101\n",
       "1   qui          39\n",
       "2  quoi           5"
      ]
     },
     "execution_count": 31,
     "metadata": {},
     "output_type": "execute_result"
    }
   ],
   "source": [
    "# Actual mentions not in a chain\n",
    "nicdf[['lemma', 'wh_context']].groupby('lemma', as_index=False).agg('count')"
   ]
  },
  {
   "cell_type": "code",
   "execution_count": 32,
   "metadata": {},
   "outputs": [
    {
     "data": {
      "text/html": [
       "<div>\n",
       "<style scoped>\n",
       "    .dataframe tbody tr th:only-of-type {\n",
       "        vertical-align: middle;\n",
       "    }\n",
       "\n",
       "    .dataframe tbody tr th {\n",
       "        vertical-align: top;\n",
       "    }\n",
       "\n",
       "    .dataframe thead th {\n",
       "        text-align: right;\n",
       "    }\n",
       "</style>\n",
       "<table border=\"1\" class=\"dataframe\">\n",
       "  <thead>\n",
       "    <tr style=\"text-align: right;\">\n",
       "      <th></th>\n",
       "      <th>lemma</th>\n",
       "      <th>wh_context</th>\n",
       "    </tr>\n",
       "  </thead>\n",
       "  <tbody>\n",
       "    <tr>\n",
       "      <th>0</th>\n",
       "      <td>où</td>\n",
       "      <td>40</td>\n",
       "    </tr>\n",
       "    <tr>\n",
       "      <th>1</th>\n",
       "      <td>quel</td>\n",
       "      <td>98</td>\n",
       "    </tr>\n",
       "    <tr>\n",
       "      <th>2</th>\n",
       "      <td>qui</td>\n",
       "      <td>9</td>\n",
       "    </tr>\n",
       "    <tr>\n",
       "      <th>3</th>\n",
       "      <td>quoi</td>\n",
       "      <td>38</td>\n",
       "    </tr>\n",
       "  </tbody>\n",
       "</table>\n",
       "</div>"
      ],
      "text/plain": [
       "  lemma  wh_context\n",
       "0    où          40\n",
       "1  quel          98\n",
       "2   qui           9\n",
       "3  quoi          38"
      ]
     },
     "execution_count": 32,
     "metadata": {},
     "output_type": "execute_result"
    }
   ],
   "source": [
    "# Actual interrogative words not mentioned, only for où, qui, quoi and quel (*que* not annotated)\n",
    "nmdf[['lemma', 'wh_context']].groupby('lemma', as_index=False).agg('count')\n",
    "# ignored : combien, comment, pourquoi, quand"
   ]
  },
  {
   "cell_type": "markdown",
   "metadata": {},
   "source": [
    "### Only counting the occurrences with a non-propositional referring expression"
   ]
  },
  {
   "cell_type": "code",
   "execution_count": null,
   "metadata": {},
   "outputs": [
    {
     "data": {
      "text/html": [
       "<div>\n",
       "<style scoped>\n",
       "    .dataframe tbody tr th:only-of-type {\n",
       "        vertical-align: middle;\n",
       "    }\n",
       "\n",
       "    .dataframe tbody tr th {\n",
       "        vertical-align: top;\n",
       "    }\n",
       "\n",
       "    .dataframe thead th {\n",
       "        text-align: right;\n",
       "    }\n",
       "</style>\n",
       "<table border=\"1\" class=\"dataframe\">\n",
       "  <thead>\n",
       "    <tr style=\"text-align: right;\">\n",
       "      <th></th>\n",
       "      <th>lemma</th>\n",
       "      <th>wh_context</th>\n",
       "    </tr>\n",
       "  </thead>\n",
       "  <tbody>\n",
       "    <tr>\n",
       "      <th>0</th>\n",
       "      <td>quel</td>\n",
       "      <td>38</td>\n",
       "    </tr>\n",
       "    <tr>\n",
       "      <th>1</th>\n",
       "      <td>qui</td>\n",
       "      <td>36</td>\n",
       "    </tr>\n",
       "    <tr>\n",
       "      <th>2</th>\n",
       "      <td>quoi</td>\n",
       "      <td>3</td>\n",
       "    </tr>\n",
       "  </tbody>\n",
       "</table>\n",
       "</div>"
      ],
      "text/plain": [
       "  lemma  wh_context\n",
       "0  quel          38\n",
       "1   qui          36\n",
       "2  quoi           3"
      ]
     },
     "execution_count": 49,
     "metadata": {},
     "output_type": "execute_result"
    }
   ],
   "source": [
    "# Missing mentions in notinchain\n",
    "nicdf['ref'] = nicdf['chain'].apply(lambda c: '0' not in c and ''.join(list(c)) != '') # with at least one referring expression\n",
    "nicdf['prop'] = nicdf['comment'].apply(lambda c: 'prop' in c) # column: whether there is at least one propositional referring expression\n",
    "nicdf[nicdf['ref'] & ~nicdf['prop']][['lemma', 'wh_context']].groupby('lemma', as_index=False).agg('count')"
   ]
  },
  {
   "cell_type": "code",
   "execution_count": null,
   "metadata": {},
   "outputs": [
    {
     "data": {
      "text/html": [
       "<div>\n",
       "<style scoped>\n",
       "    .dataframe tbody tr th:only-of-type {\n",
       "        vertical-align: middle;\n",
       "    }\n",
       "\n",
       "    .dataframe tbody tr th {\n",
       "        vertical-align: top;\n",
       "    }\n",
       "\n",
       "    .dataframe thead th {\n",
       "        text-align: right;\n",
       "    }\n",
       "</style>\n",
       "<table border=\"1\" class=\"dataframe\">\n",
       "  <thead>\n",
       "    <tr style=\"text-align: right;\">\n",
       "      <th></th>\n",
       "      <th>lemma</th>\n",
       "      <th>wh_context</th>\n",
       "    </tr>\n",
       "  </thead>\n",
       "  <tbody>\n",
       "    <tr>\n",
       "      <th>0</th>\n",
       "      <td>où</td>\n",
       "      <td>30</td>\n",
       "    </tr>\n",
       "    <tr>\n",
       "      <th>1</th>\n",
       "      <td>quel</td>\n",
       "      <td>51</td>\n",
       "    </tr>\n",
       "    <tr>\n",
       "      <th>2</th>\n",
       "      <td>qui</td>\n",
       "      <td>7</td>\n",
       "    </tr>\n",
       "    <tr>\n",
       "      <th>3</th>\n",
       "      <td>quoi</td>\n",
       "      <td>21</td>\n",
       "    </tr>\n",
       "  </tbody>\n",
       "</table>\n",
       "</div>"
      ],
      "text/plain": [
       "  lemma  wh_context\n",
       "0    où          30\n",
       "1  quel          51\n",
       "2   qui           7\n",
       "3  quoi          21"
      ]
     },
     "execution_count": 50,
     "metadata": {},
     "output_type": "execute_result"
    }
   ],
   "source": [
    "# Missing wordids in notmentioned\n",
    "nmdf['ref'] = nmdf['chain'].apply(lambda c: '0' not in c and ''.join(list(c)) != '') # with at least one referring expression\n",
    "nmdf['prop'] = nmdf['comment'].apply(lambda c: 'prop' in c) # column: whether there is at least one propositional referring expression\n",
    "nmdf[nmdf['ref'] & ~nmdf['prop']][['lemma', 'wh_context']].groupby('lemma', as_index=False).agg('count')"
   ]
  },
  {
   "cell_type": "code",
   "execution_count": null,
   "metadata": {},
   "outputs": [],
   "source": []
  }
 ],
 "metadata": {
  "kernelspec": {
   "display_name": "env0",
   "language": "python",
   "name": "python3"
  },
  "language_info": {
   "codemirror_mode": {
    "name": "ipython",
    "version": 3
   },
   "file_extension": ".py",
   "mimetype": "text/x-python",
   "name": "python",
   "nbconvert_exporter": "python",
   "pygments_lexer": "ipython3",
   "version": "3.13.2"
  }
 },
 "nbformat": 4,
 "nbformat_minor": 2
}
